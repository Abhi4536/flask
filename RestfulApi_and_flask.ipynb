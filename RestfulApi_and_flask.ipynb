{
  "nbformat": 4,
  "nbformat_minor": 0,
  "metadata": {
    "colab": {
      "provenance": []
    },
    "kernelspec": {
      "name": "python3",
      "display_name": "Python 3"
    },
    "language_info": {
      "name": "python"
    }
  },
  "cells": [
    {
      "cell_type": "code",
      "execution_count": null,
      "metadata": {
        "id": "ObQj9TXcJHzX"
      },
      "outputs": [],
      "source": []
    },
    {
      "cell_type": "markdown",
      "source": [
        "Q1)What is a RESTful API?\n",
        "ans-A RESTful API (Representational State Transfer API) is a web service that follows REST principles, allowing clients to interact with a server using standard HTTP methods (GET, POST, PUT, DELETE). It is stateless, scalable, and widely used for web and mobile applications.\n",
        "\n",
        "Q2)Explain the concept of API specification\n",
        "ans-An API specification defines how an API should work, including endpoints, request/response formats, authentication methods, and error handling. Examples include OpenAPI (Swagger) and RAML, which help standardize API development and documentation.\n",
        "\n",
        "Q3)What is Flask, and why is it popular for building APIs?\n",
        "ans-Flask is a lightweight Python web framework used to build web applications and APIs. It's popular because:\n",
        "\n",
        "It is simple and easy to use.\n",
        "\n",
        "It supports extensions like Flask-SQLAlchemy and Flask-RESTful.\n",
        "\n",
        "It provides built-in support for routing, request handling, and response formatting.\n",
        "\n",
        "Q4) What is routing in Flask?\n",
        "Routing in Flask is the process of mapping URLs to specific functions in a Flask application. It allows users to define different paths (endpoints) that the application can respond to.\n",
        "\n",
        "Q5) How do you create a simple Flask application?\n",
        "\n",
        "from flask import Flask\n",
        "\n",
        "app = Flask(__name__)\n",
        "\n",
        "@app.route('/')\n",
        "def home():\n",
        "    return \"Hello, Flask!\"\n",
        "\n",
        "if __name__ == '__main__':\n",
        "    app.run(debug=True)\n",
        "Q7) What are HTTP methods used in RESTful APIs?\n",
        "Common HTTP methods include:\n",
        "\n",
        "GET – Retrieve data.\n",
        "\n",
        "POST – Send data to create a resource.\n",
        "\n",
        "PUT – Update an existing resource.\n",
        "\n",
        "DELETE – Remove a resource.\n",
        "\n",
        "PATCH – Partially update a resource.\n",
        "\n",
        "Q7) What is the purpose of the @app.route() decorator in Flask?\n",
        "The @app.route() decorator is used to bind a function to a specific URL, defining a route for handling requests.\n",
        "\n",
        "Q8) What is the difference between GET and POST HTTP methods?\n",
        "GET: Used to retrieve data from the server; parameters are sent in the URL.\n",
        "\n",
        "POST: Used to send data to the server; parameters are sent in the request body.\n",
        "\n",
        "Q9) How do you handle errors in Flask APIs?\n",
        "Flask provides error handling using:\n",
        "\n",
        "from flask import jsonify\n",
        "\n",
        "@app.errorhandler(404)\n",
        "def not_found(error):\n",
        "    return jsonify({\"error\": \"Not Found\"}), 404\n",
        "\n",
        "10) How do you connect Flask to a SQL database?\n",
        "Using Flask-SQLAlchemy:\n",
        "\n",
        "from flask_sqlalchemy import SQLAlchemy\n",
        "\n",
        "app.config['SQLALCHEMY_DATABASE_URI'] = 'sqlite:///database.db'\n",
        "db = SQLAlchemy(app)\n",
        "\n",
        "\n",
        "11) What is the role of Flask-SQLAlchemy?\n",
        "Flask-SQLAlchemy is an extension that simplifies database interactions using SQLAlchemy ORM.\n",
        "\n",
        "12) What are Flask blueprints, and how are they useful?\n",
        "Blueprints allow modular structuring of Flask applications, making it easier to organize large projects.\n",
        "\n",
        "13What is the purpose of Flask's request object?\n",
        "The request object provides access to request data like form data, JSON payloads, and headers.\n",
        "\n",
        "14How do you create a RESTful API endpoint using Flask?\n",
        "python\n",
        "Copy\n",
        "Edit\n",
        "@app.route('/api/data', methods=['GET'])\n",
        "def get_data():\n",
        "    return jsonify({\"message\": \"Hello, API!\"})\n",
        "\n",
        "15 What is the purpose of Flask's jsonify() function?\n",
        "jsonify() converts Python dictionaries or lists into JSON-formatted responses.\n",
        "\n",
        "16 Explain Flask’s url_for() function.\n",
        "url_for() generates URLs dynamically:\n",
        "\n",
        "\n",
        "url_for('home')  # Generates '/'\n",
        "17. How does Flask handle static files (CSS, JavaScript, etc.)?\n",
        "Flask serves static files from the static/ folder:\n",
        "\n",
        "\n",
        "<link rel=\"stylesheet\" href=\"{{ url_for('static', filename='style.css') }}\">\n",
        "\n",
        "\n",
        "18 What is an API specification, and how does it help in building a Flask API?\n",
        "An API specification defines request methods, expected parameters, and response structures, ensuring consistency.\n",
        "\n",
        "19 What are HTTP status codes, and why are they important in a Flask API?\n",
        "HTTP status codes indicate request outcomes:\n",
        "\n",
        "200 OK – Success\n",
        "\n",
        "201 Created – Resource created\n",
        "\n",
        "400 Bad Request – Client error\n",
        "\n",
        "404 Not Found – Resource not found\n",
        "\n",
        "500 Internal Server Error – Server error\n",
        "\n",
        "20.How do you handle POST requests in Flask?\n",
        "\n",
        "from flask import request\n",
        "\n",
        "@app.route('/submit', methods=['POST'])\n",
        "def submit():\n",
        "    data = request.json\n",
        "    return jsonify({\"received\": data})\n",
        "21 How would you secure a Flask API?\n",
        "Use JWT (JSON Web Tokens) for authentication.\n",
        "\n",
        "Implement rate limiting.\n",
        "\n",
        "Enable CORS protection.\n",
        "\n",
        "Use HTTPS.\n",
        "\n",
        "Validate user input to prevent SQL injection and XSS attacks.\n",
        "\n",
        "22 What is the significance of the Flask-RESTful extension?\n",
        "Flask-RESTful is an extension that simplifies building RESTful APIs with Flask. It provides:\n",
        "Class-based views for organizing API endpoints.\n",
        "Automatic request parsing with reqparse.\n",
        "Built-in error handling for structured API responses.\n",
        "Efficient routing with Resource classes.\n",
        "\n",
        "23What is the role of Flask’s session object?\n",
        "The session object in Flask is used to store user-specific data across multiple requests. It helps in:\n",
        "🔹 Maintaining user sessions (like login states).\n",
        "🔹 Storing temporary data securely.\n",
        "🔹 Managing session cookies using Flask’s built-in secret_key for encryption.\n"
      ],
      "metadata": {
        "id": "-1nmhWYbJUZp"
      }
    },
    {
      "cell_type": "code",
      "source": [],
      "metadata": {
        "id": "5xnqrBKLLE9I"
      },
      "execution_count": null,
      "outputs": []
    },
    {
      "cell_type": "code",
      "source": [
        "#How do you create a basic Flask application\n",
        "\n",
        "from flask import Flask\n",
        "\n",
        "app = Flask(__name__)\n",
        "\n",
        "@app.route('/')\n",
        "def home():\n",
        "    return \"Hello, Flask!\"\n",
        "\n",
        "if __name__ == '__main__':\n",
        "    app.run(debug=True)\n"
      ],
      "metadata": {
        "colab": {
          "base_uri": "https://localhost:8080/"
        },
        "id": "BSd7DhjfLGGJ",
        "outputId": "d68788b2-7eb3-411c-ff01-ffe35a2eabca"
      },
      "execution_count": null,
      "outputs": [
        {
          "output_type": "stream",
          "name": "stdout",
          "text": [
            " * Serving Flask app '__main__'\n",
            " * Debug mode: on\n"
          ]
        },
        {
          "output_type": "stream",
          "name": "stderr",
          "text": [
            "INFO:werkzeug:\u001b[31m\u001b[1mWARNING: This is a development server. Do not use it in a production deployment. Use a production WSGI server instead.\u001b[0m\n",
            " * Running on http://127.0.0.1:5000\n",
            "INFO:werkzeug:\u001b[33mPress CTRL+C to quit\u001b[0m\n",
            "INFO:werkzeug: * Restarting with stat\n"
          ]
        }
      ]
    },
    {
      "cell_type": "code",
      "source": [
        "# How do you serve static files like images or CSS in Flask\n",
        "/static\n",
        "   ├── style.css\n",
        "   ├── image.jpg\n",
        "   <link rel=\"stylesheet\" href=\"{{ url_for('static', filename='style.css') }}\">\n",
        "<link rel=\"stylesheet\" href=\"{{ url_for('static', filename='style.css') }}\">\n",
        "\n"
      ],
      "metadata": {
        "id": "ixJTt7nPLGCs"
      },
      "execution_count": null,
      "outputs": []
    },
    {
      "cell_type": "code",
      "source": [
        "#"
      ],
      "metadata": {
        "id": "44Oxw4usLGAS"
      },
      "execution_count": null,
      "outputs": []
    },
    {
      "cell_type": "markdown",
      "source": [],
      "metadata": {
        "id": "mbC9nFjlLddU"
      }
    },
    {
      "cell_type": "code",
      "source": [
        "# How do you define different routes with different HTTP methods in Flask\n",
        "@app.route('/submit', methods=['GET', 'POST'])\n",
        "def submit():\n",
        "    if request.method == 'POST':\n",
        "        return \"POST request received!\"\n",
        "    return \"GET request received!\"\n"
      ],
      "metadata": {
        "id": "e6x0Qb3XLF92"
      },
      "execution_count": null,
      "outputs": []
    },
    {
      "cell_type": "code",
      "source": [
        "# How do you render HTML templates in Flask\n",
        "/templates\n",
        "   ├── index.html\n",
        "from flask import render_template\n",
        "\n",
        "@app.route('/')\n",
        "def home():\n",
        "    return render_template('index.html', title=\"Welcome!\")\n",
        "<!DOCTYPE html>\n",
        "<html>\n",
        "<head>\n",
        "    <title>{{ title }}</title>\n",
        "</head>\n",
        "<body>\n",
        "    <h1>Hello, Flask!</h1>\n",
        "</body>\n",
        "</html>\n"
      ],
      "metadata": {
        "id": "NFbkZa4BLF7L"
      },
      "execution_count": null,
      "outputs": []
    },
    {
      "cell_type": "code",
      "source": [
        "#How can you generate URLs for routes in Flask using url_for\n",
        "from flask import url_for\n",
        "\n",
        "@app.route('/profile/<username>')\n",
        "def profile(username):\n",
        "    return f\"User: {username}\"\n",
        "\n",
        "@app.route('/get-profile-url')\n",
        "def get_profile_url():\n",
        "    return url_for('profile', username='JohnDoe')\n"
      ],
      "metadata": {
        "id": "ReleGcSGLF4w"
      },
      "execution_count": null,
      "outputs": []
    },
    {
      "cell_type": "code",
      "source": [
        "# How do you handle forms in Flask\n",
        "from flask import request\n",
        "\n",
        "@app.route('/submit', methods=['POST'])\n",
        "def submit():\n",
        "    name = request.form['name']\n",
        "    return f\"Hello, {name}!\"\n",
        "<form action=\"/submit\" method=\"POST\">\n",
        "    <input type=\"text\" name=\"name\">\n",
        "    <button type=\"submit\">Submit</button>\n",
        "</form>\n"
      ],
      "metadata": {
        "id": "gjR6jZbPLF2W"
      },
      "execution_count": null,
      "outputs": []
    },
    {
      "cell_type": "code",
      "source": [
        "#How can you validate form data in Flask\n",
        "from flask_wtf import FlaskForm\n",
        "from wtforms import StringField, validators\n",
        "\n",
        "class MyForm(FlaskForm):\n",
        "    name = StringField('Name', [validators.DataRequired()])\n"
      ],
      "metadata": {
        "id": "RxG0tQYFLF0B"
      },
      "execution_count": null,
      "outputs": []
    },
    {
      "cell_type": "code",
      "source": [
        "#How do you manage sessions in Flask\n",
        "from flask import session\n",
        "\n",
        "app.secret_key = 'mysecret'\n",
        "\n",
        "@app.route('/set')\n",
        "def set_session():\n",
        "    session['user'] = 'John'\n",
        "    return \"Session set!\"\n",
        "\n",
        "@app.route('/get')\n",
        "def get_session():\n",
        "    return session.get('user', 'No session found')\n"
      ],
      "metadata": {
        "id": "uulF7TMELFvu"
      },
      "execution_count": null,
      "outputs": []
    },
    {
      "cell_type": "code",
      "source": [
        "#How do you redirect to a different route in Flask\n",
        "from flask import redirect, url_for\n",
        "\n",
        "@app.route('/old')\n",
        "def old():\n",
        "    return redirect(url_for('new'))\n",
        "\n",
        "@app.route('/new')\n",
        "def new():\n",
        "    return \"New Route!\"\n"
      ],
      "metadata": {
        "id": "GPvSzJUaLFsR"
      },
      "execution_count": null,
      "outputs": []
    },
    {
      "cell_type": "code",
      "source": [
        "#How do you handle errors in Flask (e.g., 404\n",
        "\n",
        "@app.errorhandler(404)\n",
        "def not_found(e):\n",
        "    return \"Page Not Found!\", 404\n",
        "\n"
      ],
      "metadata": {
        "id": "mlRFAtU5LFpZ"
      },
      "execution_count": null,
      "outputs": []
    },
    {
      "cell_type": "code",
      "source": [
        "#How do you structure a Flask app using Blueprints\n",
        "from flask import Blueprint\n",
        "\n",
        "my_blueprint = Blueprint('my_blueprint', __name__)\n",
        "\n",
        "@my_blueprint.route('/hello')\n",
        "def hello():\n",
        "    return \"Hello from Blueprint!\"\n"
      ],
      "metadata": {
        "id": "0KLCuEgJMFDQ"
      },
      "execution_count": null,
      "outputs": []
    },
    {
      "cell_type": "code",
      "source": [
        "#How do you define a custom Jinja filter in Flask\n",
        "@app.template_filter('reverse')\n",
        "def reverse_filter(s):\n",
        "    return s[::-1]\n"
      ],
      "metadata": {
        "id": "Z3PLKdq9ME9o"
      },
      "execution_count": null,
      "outputs": []
    },
    {
      "cell_type": "code",
      "source": [
        "#How can you redirect with query parameters in Flask\n",
        "@app.route('/redirect')\n",
        "def redirect_with_params():\n",
        "    return redirect(url_for('new', msg=\"Hello\"))\n",
        "\n",
        "@app.route('/new')\n",
        "def new():\n",
        "    msg = request.args.get('msg')\n",
        "    return f\"Message: {msg}\"\n"
      ],
      "metadata": {
        "id": "YlwtZVvuME3x"
      },
      "execution_count": null,
      "outputs": []
    },
    {
      "cell_type": "code",
      "source": [
        "#How do you return JSON responses in Flask\n",
        "from flask import jsonify\n",
        "\n",
        "@app.route('/api/data')\n",
        "def api_data():\n",
        "    return jsonify({\"name\": \"John\", \"age\": 25})\n"
      ],
      "metadata": {
        "id": "X9a7IwP2ME1D"
      },
      "execution_count": null,
      "outputs": []
    },
    {
      "cell_type": "code",
      "source": [
        "#How do you capture URL parameters in Flask\n",
        "@app.route('/user/<username>')\n",
        "def show_user(username):\n",
        "    return f\"User: {username}\"\n"
      ],
      "metadata": {
        "id": "h4tRErtlMEyD"
      },
      "execution_count": null,
      "outputs": []
    }
  ]
}